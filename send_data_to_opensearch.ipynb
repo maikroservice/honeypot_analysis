{
 "cells": [
  {
   "cell_type": "code",
   "execution_count": 2,
   "id": "cfcd8623-2bc4-4ceb-8024-b68308ad4df8",
   "metadata": {
    "tags": []
   },
   "outputs": [],
   "source": [
    "import pandas as pd\n",
    "import requests\n",
    "import warnings\n",
    "warnings.filterwarnings(\"ignore\")\n",
    "import json"
   ]
  },
  {
   "cell_type": "code",
   "execution_count": 3,
   "id": "5c0497f2-10e5-4f19-85b2-f174e2f00672",
   "metadata": {
    "tags": []
   },
   "outputs": [],
   "source": [
    "with open(\"fixed_log.log\") as f:\n",
    "    log = f.readlines()"
   ]
  },
  {
   "cell_type": "code",
   "execution_count": 4,
   "id": "7acebb1d-6588-4893-a43c-432d164e4671",
   "metadata": {
    "tags": []
   },
   "outputs": [],
   "source": [
    "#for i, entry in enumerate(log):\n",
    " #   requests.post(f\"https://localhost:9200/gluttonhoneypot/_doc/{i+1}\", json=json.loads(entry), auth=('admin', 'admin'), verify=False)"
   ]
  },
  {
   "cell_type": "code",
   "execution_count": 5,
   "id": "43a493fc-9935-4ea9-8d8e-a7e26225731e",
   "metadata": {
    "tags": []
   },
   "outputs": [
    {
     "data": {
      "text/plain": [
       "['{\"level\":\"info\",\"ts\":1673794463.1364226,\"msg\":\"IP from a known scanner\",\"sensorID\":\"cd00083f-1221-429d-9d07-49cc5e1c2005\",\"host\":\"167.94.138.61\",\"scanner\":\"censys\",\"dest_port\":\"53482\"}\\n',\n",
       " '{\"level\":\"info\",\"ts\":1673794464.202223,\"msg\":\"IP from a known scanner\",\"sensorID\":\"cd00083f-1221-429d-9d07-49cc5e1c2005\",\"host\":\"167.94.138.61\",\"scanner\":\"censys\",\"dest_port\":\"53482\"}\\n']"
      ]
     },
     "execution_count": 5,
     "metadata": {},
     "output_type": "execute_result"
    }
   ],
   "source": [
    "log[3:5]"
   ]
  },
  {
   "cell_type": "code",
   "execution_count": 6,
   "id": "7389694d-0d62-4466-97aa-75e9874c78ad",
   "metadata": {
    "tags": []
   },
   "outputs": [],
   "source": [
    "list_of_dicts = []\n",
    "for line in log[3:]:\n",
    "    list_of_dicts.append(json.loads(line))"
   ]
  },
  {
   "cell_type": "code",
   "execution_count": 7,
   "id": "ecbdedb4-4326-4b17-b536-10967eaa126c",
   "metadata": {
    "tags": []
   },
   "outputs": [],
   "source": [
    "df = pd.DataFrame(list_of_dicts)"
   ]
  },
  {
   "cell_type": "code",
   "execution_count": 8,
   "id": "197e1bd8-6e28-4409-a60a-a0d05430c922",
   "metadata": {
    "tags": []
   },
   "outputs": [
    {
     "data": {
      "text/html": [
       "<div>\n",
       "<style scoped>\n",
       "    .dataframe tbody tr th:only-of-type {\n",
       "        vertical-align: middle;\n",
       "    }\n",
       "\n",
       "    .dataframe tbody tr th {\n",
       "        vertical-align: top;\n",
       "    }\n",
       "\n",
       "    .dataframe thead th {\n",
       "        text-align: right;\n",
       "    }\n",
       "</style>\n",
       "<table border=\"1\" class=\"dataframe\">\n",
       "  <thead>\n",
       "    <tr style=\"text-align: right;\">\n",
       "      <th></th>\n",
       "      <th>level</th>\n",
       "      <th>ts</th>\n",
       "      <th>msg</th>\n",
       "      <th>sensorID</th>\n",
       "      <th>host</th>\n",
       "      <th>scanner</th>\n",
       "      <th>dest_port</th>\n",
       "      <th>handler</th>\n",
       "      <th>src_ip</th>\n",
       "      <th>src_port</th>\n",
       "      <th>...</th>\n",
       "      <th>password</th>\n",
       "      <th>message</th>\n",
       "      <th>direction</th>\n",
       "      <th>error</th>\n",
       "      <th>payload_hash</th>\n",
       "      <th>peer_id</th>\n",
       "      <th>inf_hash</th>\n",
       "      <th>sha256</th>\n",
       "      <th>source</th>\n",
       "      <th>sha</th>\n",
       "    </tr>\n",
       "  </thead>\n",
       "  <tbody>\n",
       "    <tr>\n",
       "      <th>0</th>\n",
       "      <td>info</td>\n",
       "      <td>1.673794e+09</td>\n",
       "      <td>IP from a known scanner</td>\n",
       "      <td>cd00083f-1221-429d-9d07-49cc5e1c2005</td>\n",
       "      <td>167.94.138.61</td>\n",
       "      <td>censys</td>\n",
       "      <td>53482</td>\n",
       "      <td>NaN</td>\n",
       "      <td>NaN</td>\n",
       "      <td>NaN</td>\n",
       "      <td>...</td>\n",
       "      <td>NaN</td>\n",
       "      <td>NaN</td>\n",
       "      <td>NaN</td>\n",
       "      <td>NaN</td>\n",
       "      <td>NaN</td>\n",
       "      <td>NaN</td>\n",
       "      <td>NaN</td>\n",
       "      <td>NaN</td>\n",
       "      <td>NaN</td>\n",
       "      <td>NaN</td>\n",
       "    </tr>\n",
       "    <tr>\n",
       "      <th>1</th>\n",
       "      <td>info</td>\n",
       "      <td>1.673794e+09</td>\n",
       "      <td>IP from a known scanner</td>\n",
       "      <td>cd00083f-1221-429d-9d07-49cc5e1c2005</td>\n",
       "      <td>167.94.138.61</td>\n",
       "      <td>censys</td>\n",
       "      <td>53482</td>\n",
       "      <td>NaN</td>\n",
       "      <td>NaN</td>\n",
       "      <td>NaN</td>\n",
       "      <td>...</td>\n",
       "      <td>NaN</td>\n",
       "      <td>NaN</td>\n",
       "      <td>NaN</td>\n",
       "      <td>NaN</td>\n",
       "      <td>NaN</td>\n",
       "      <td>NaN</td>\n",
       "      <td>NaN</td>\n",
       "      <td>NaN</td>\n",
       "      <td>NaN</td>\n",
       "      <td>NaN</td>\n",
       "    </tr>\n",
       "    <tr>\n",
       "      <th>2</th>\n",
       "      <td>info</td>\n",
       "      <td>1.673794e+09</td>\n",
       "      <td>IP from a known scanner</td>\n",
       "      <td>cd00083f-1221-429d-9d07-49cc5e1c2005</td>\n",
       "      <td>167.94.138.61</td>\n",
       "      <td>censys</td>\n",
       "      <td>53482</td>\n",
       "      <td>NaN</td>\n",
       "      <td>NaN</td>\n",
       "      <td>NaN</td>\n",
       "      <td>...</td>\n",
       "      <td>NaN</td>\n",
       "      <td>NaN</td>\n",
       "      <td>NaN</td>\n",
       "      <td>NaN</td>\n",
       "      <td>NaN</td>\n",
       "      <td>NaN</td>\n",
       "      <td>NaN</td>\n",
       "      <td>NaN</td>\n",
       "      <td>NaN</td>\n",
       "      <td>NaN</td>\n",
       "    </tr>\n",
       "    <tr>\n",
       "      <th>3</th>\n",
       "      <td>info</td>\n",
       "      <td>1.673794e+09</td>\n",
       "      <td>running Go routines: 35, open files: 8</td>\n",
       "      <td>cd00083f-1221-429d-9d07-49cc5e1c2005</td>\n",
       "      <td>NaN</td>\n",
       "      <td>NaN</td>\n",
       "      <td>NaN</td>\n",
       "      <td>NaN</td>\n",
       "      <td>NaN</td>\n",
       "      <td>NaN</td>\n",
       "      <td>...</td>\n",
       "      <td>NaN</td>\n",
       "      <td>NaN</td>\n",
       "      <td>NaN</td>\n",
       "      <td>NaN</td>\n",
       "      <td>NaN</td>\n",
       "      <td>NaN</td>\n",
       "      <td>NaN</td>\n",
       "      <td>NaN</td>\n",
       "      <td>NaN</td>\n",
       "      <td>NaN</td>\n",
       "    </tr>\n",
       "    <tr>\n",
       "      <th>4</th>\n",
       "      <td>info</td>\n",
       "      <td>1.673794e+09</td>\n",
       "      <td>IP from a known scanner</td>\n",
       "      <td>cd00083f-1221-429d-9d07-49cc5e1c2005</td>\n",
       "      <td>167.94.138.61</td>\n",
       "      <td>censys</td>\n",
       "      <td>53482</td>\n",
       "      <td>NaN</td>\n",
       "      <td>NaN</td>\n",
       "      <td>NaN</td>\n",
       "      <td>...</td>\n",
       "      <td>NaN</td>\n",
       "      <td>NaN</td>\n",
       "      <td>NaN</td>\n",
       "      <td>NaN</td>\n",
       "      <td>NaN</td>\n",
       "      <td>NaN</td>\n",
       "      <td>NaN</td>\n",
       "      <td>NaN</td>\n",
       "      <td>NaN</td>\n",
       "      <td>NaN</td>\n",
       "    </tr>\n",
       "  </tbody>\n",
       "</table>\n",
       "<p>5 rows × 24 columns</p>\n",
       "</div>"
      ],
      "text/plain": [
       "  level            ts                                     msg  \\\n",
       "0  info  1.673794e+09                 IP from a known scanner   \n",
       "1  info  1.673794e+09                 IP from a known scanner   \n",
       "2  info  1.673794e+09                 IP from a known scanner   \n",
       "3  info  1.673794e+09  running Go routines: 35, open files: 8   \n",
       "4  info  1.673794e+09                 IP from a known scanner   \n",
       "\n",
       "                               sensorID           host scanner dest_port  \\\n",
       "0  cd00083f-1221-429d-9d07-49cc5e1c2005  167.94.138.61  censys     53482   \n",
       "1  cd00083f-1221-429d-9d07-49cc5e1c2005  167.94.138.61  censys     53482   \n",
       "2  cd00083f-1221-429d-9d07-49cc5e1c2005  167.94.138.61  censys     53482   \n",
       "3  cd00083f-1221-429d-9d07-49cc5e1c2005            NaN     NaN       NaN   \n",
       "4  cd00083f-1221-429d-9d07-49cc5e1c2005  167.94.138.61  censys     53482   \n",
       "\n",
       "  handler src_ip src_port  ... password message direction error payload_hash  \\\n",
       "0     NaN    NaN      NaN  ...      NaN     NaN       NaN   NaN          NaN   \n",
       "1     NaN    NaN      NaN  ...      NaN     NaN       NaN   NaN          NaN   \n",
       "2     NaN    NaN      NaN  ...      NaN     NaN       NaN   NaN          NaN   \n",
       "3     NaN    NaN      NaN  ...      NaN     NaN       NaN   NaN          NaN   \n",
       "4     NaN    NaN      NaN  ...      NaN     NaN       NaN   NaN          NaN   \n",
       "\n",
       "  peer_id inf_hash sha256 source  sha  \n",
       "0     NaN      NaN    NaN    NaN  NaN  \n",
       "1     NaN      NaN    NaN    NaN  NaN  \n",
       "2     NaN      NaN    NaN    NaN  NaN  \n",
       "3     NaN      NaN    NaN    NaN  NaN  \n",
       "4     NaN      NaN    NaN    NaN  NaN  \n",
       "\n",
       "[5 rows x 24 columns]"
      ]
     },
     "execution_count": 8,
     "metadata": {},
     "output_type": "execute_result"
    }
   ],
   "source": [
    "df.head()"
   ]
  },
  {
   "cell_type": "code",
   "execution_count": 32,
   "id": "888575c9-d8a5-4e22-a7fd-af368730c828",
   "metadata": {
    "tags": []
   },
   "outputs": [
    {
     "data": {
      "text/plain": [
       "23       2416231\n",
       "2323      177774\n",
       "3399       41689\n",
       "37215      34065\n",
       "23231       4162\n",
       "80          3808\n",
       "21          3255\n",
       "8080        2802\n",
       "8888        1478\n",
       "6379        1462\n",
       "Name: dest_port, dtype: int64"
      ]
     },
     "execution_count": 32,
     "metadata": {},
     "output_type": "execute_result"
    }
   ],
   "source": [
    "pd.set_option(\"display.max_rows\", None)\n",
    "df.dest_port.value_counts().head(10)"
   ]
  },
  {
   "cell_type": "code",
   "execution_count": 18,
   "id": "baf261ea-d94d-46cf-9ae0-291d7704057d",
   "metadata": {
    "tags": []
   },
   "outputs": [
    {
     "data": {
      "text/plain": [
       "src_ip    72.164882\n",
       "dtype: float64"
      ]
     },
     "execution_count": 18,
     "metadata": {},
     "output_type": "execute_result"
    }
   ],
   "source": [
    "# the top 100 attacker IPs make up 72% of the registered hits\n",
    "(df.src_ip.value_counts().to_frame().head(100).sum() / len(list_of_dicts)) * 100"
   ]
  },
  {
   "cell_type": "code",
   "execution_count": 30,
   "id": "69d4b915-a56d-47ae-b2d4-1ddc9570671c",
   "metadata": {
    "tags": []
   },
   "outputs": [
    {
     "data": {
      "text/plain": [
       "194.180.49.134     1444948\n",
       "78.135.85.216       469213\n",
       "171.22.30.173       183565\n",
       "85.209.134.96        73187\n",
       "170.250.201.168      47101\n",
       "54.39.186.162        41618\n",
       "195.133.40.73        14987\n",
       "107.189.6.194         8608\n",
       "14.33.109.148         8489\n",
       "185.225.73.79         7530\n",
       "Name: src_ip, dtype: int64"
      ]
     },
     "execution_count": 30,
     "metadata": {},
     "output_type": "execute_result"
    }
   ],
   "source": [
    "df.src_ip.value_counts().head(10)"
   ]
  },
  {
   "cell_type": "code",
   "execution_count": 31,
   "id": "820854c0-30ac-4f4e-ae15-bb75935c5aab",
   "metadata": {
    "tags": []
   },
   "outputs": [
    {
     "name": "stdout",
     "output_type": "stream",
     "text": [
      "Country: EUROPEAN UNION (EU)\n",
      "City: (Unknown city)\n",
      "IP: 194.180.49.134\n",
      "\n",
      "Country: GERMANY (DE)\n",
      "City: Berlin\n",
      "IP: 78.135.85.216\n",
      "\n",
      "Country: EUROPEAN UNION (EU)\n",
      "City: (Unknown city)\n",
      "IP: 171.22.30.173\n",
      "\n",
      "Country: (Unknown Country?) (XX)\n",
      "City: (Unknown City?)\n",
      "IP: 85.209.134.96\n",
      "\n",
      "Country: UNITED STATES (US)\n",
      "City: (Unknown city)\n",
      "IP: 170.250.201.168\n",
      "\n",
      "Country: UNITED STATES (US)\n",
      "City: (Unknown city)\n",
      "IP: 54.39.186.162\n",
      "\n",
      "Country: RUSSIAN FEDERATION (RU)\n",
      "City: (Unknown city)\n",
      "IP: 195.133.40.73\n",
      "\n",
      "Country: (Unknown Country?) (XX)\n",
      "City: (Unknown City?)\n",
      "IP: 107.189.6.194\n",
      "\n",
      "Country: UNITED STATES (US)\n",
      "City: (Unknown city)\n",
      "IP: 14.33.109.148\n",
      "\n",
      "Country: (Unknown Country?) (XX)\n",
      "City: (Unknown City?)\n",
      "IP: 185.225.73.79\n",
      "\n"
     ]
    }
   ],
   "source": [
    "# identify attacker IP locations (https://www.hostip.info/use.php)\n",
    "for ip in df.src_ip.value_counts().head(10).index.to_list():\n",
    "    r = requests.get(f\"https://api.hostip.info/get_html.php?ip={ip}\")\n",
    "    print(r.text)"
   ]
  },
  {
   "cell_type": "markdown",
   "id": "4149434a-8f4d-4775-a4b6-9defe80b0379",
   "metadata": {},
   "source": [
    "# #1 attacker IP reverse lookup\n",
    "![image](top_attacker_ip.png)"
   ]
  },
  {
   "cell_type": "markdown",
   "id": "c974cd19-375e-4ddf-9485-3bb347b611d2",
   "metadata": {},
   "source": [
    "`poweredbycrazy.ru` huh?\n",
    "I assume this is a Digitalocean droplet since the IP location is in the Netherlands\n",
    "\n",
    "lets check how long the page has been registered"
   ]
  },
  {
   "cell_type": "markdown",
   "id": "a7a55928-daf0-4990-a2af-b78d1657cc3c",
   "metadata": {},
   "source": [
    "virustotal: https://www.virustotal.com/gui/domain/poweredbycrazy.ru/relations\n",
    "\n",
    "crt.sh: https://crt.sh/?q=poweredbycrazy.ru"
   ]
  },
  {
   "cell_type": "code",
   "execution_count": null,
   "id": "c254e546-a72c-448c-bb3e-08b015b33a30",
   "metadata": {},
   "outputs": [],
   "source": []
  }
 ],
 "metadata": {
  "kernelspec": {
   "display_name": "Python 3 (ipykernel)",
   "language": "python",
   "name": "python3"
  },
  "language_info": {
   "codemirror_mode": {
    "name": "ipython",
    "version": 3
   },
   "file_extension": ".py",
   "mimetype": "text/x-python",
   "name": "python",
   "nbconvert_exporter": "python",
   "pygments_lexer": "ipython3",
   "version": "3.10.9"
  }
 },
 "nbformat": 4,
 "nbformat_minor": 5
}
