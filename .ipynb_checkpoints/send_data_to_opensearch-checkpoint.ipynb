{
 "cells": [
  {
   "cell_type": "code",
   "execution_count": 3,
   "id": "cfcd8623-2bc4-4ceb-8024-b68308ad4df8",
   "metadata": {
    "tags": []
   },
   "outputs": [],
   "source": [
    "import pandas as pd\n",
    "import requests\n",
    "import warnings\n",
    "warnings.filterwarnings(\"ignore\")\n",
    "import json"
   ]
  },
  {
   "cell_type": "code",
   "execution_count": 4,
   "id": "5c0497f2-10e5-4f19-85b2-f174e2f00672",
   "metadata": {
    "tags": []
   },
   "outputs": [],
   "source": [
    "# read log file\n",
    "with open(\"../fixed_log.log\") as f:\n",
    "    log = f.readlines()"
   ]
  },
  {
   "cell_type": "code",
   "execution_count": 5,
   "id": "7acebb1d-6588-4893-a43c-432d164e4671",
   "metadata": {
    "tags": []
   },
   "outputs": [],
   "source": [
    "# if you want to read the data into elastic/opensearch/wazuh you can use this 1 by 1 approach or use the _bulk api\n",
    "# https://opensearch.org/docs/latest/api-reference/document-apis/bulk/\n",
    "# make sure to create an index template FIRST so that all the log keys are correctly mapped to their data type\n",
    "# https://opensearch.org/docs/latest/opensearch/index-templates/\n",
    "\n",
    "#for i, entry in enumerate(log):\n",
    "#    requests.post(f\"https://localhost:9200/gluttonhoneypot/_doc/{i+1}\", json=json.loads(entry), auth=('admin', 'admin'), verify=False)"
   ]
  },
  {
   "cell_type": "code",
   "execution_count": 6,
   "id": "43a493fc-9935-4ea9-8d8e-a7e26225731e",
   "metadata": {
    "tags": []
   },
   "outputs": [
    {
     "data": {
      "text/plain": [
       "['{\"level\":\"info\",\"ts\":1673794463.1364226,\"msg\":\"IP from a known scanner\",\"sensorID\":\"cd00083f-1221-429d-9d07-49cc5e1c2005\",\"host\":\"167.94.138.61\",\"scanner\":\"censys\",\"dest_port\":\"53482\"}\\n',\n",
       " '{\"level\":\"info\",\"ts\":1673794464.202223,\"msg\":\"IP from a known scanner\",\"sensorID\":\"cd00083f-1221-429d-9d07-49cc5e1c2005\",\"host\":\"167.94.138.61\",\"scanner\":\"censys\",\"dest_port\":\"53482\"}\\n']"
      ]
     },
     "execution_count": 6,
     "metadata": {},
     "output_type": "execute_result"
    }
   ],
   "source": [
    "# check logs for layout, parameters and general sanity\n",
    "log[3:5]"
   ]
  },
  {
   "cell_type": "code",
   "execution_count": 7,
   "id": "7389694d-0d62-4466-97aa-75e9874c78ad",
   "metadata": {
    "tags": []
   },
   "outputs": [],
   "source": [
    "# create a list of dictionaries/json objects to load into a pandas dataframe\n",
    "list_of_dicts = []\n",
    "for line in log[3:]:\n",
    "    list_of_dicts.append(json.loads(line))"
   ]
  },
  {
   "cell_type": "code",
   "execution_count": 8,
   "id": "ecbdedb4-4326-4b17-b536-10967eaa126c",
   "metadata": {
    "tags": []
   },
   "outputs": [],
   "source": [
    "# create dataframe (tabular data structure for easy analysis)\n",
    "df = pd.DataFrame(list_of_dicts)"
   ]
  },
  {
   "cell_type": "code",
   "execution_count": 9,
   "id": "197e1bd8-6e28-4409-a60a-a0d05430c922",
   "metadata": {
    "tags": []
   },
   "outputs": [
    {
     "data": {
      "text/html": [
       "<div>\n",
       "<style scoped>\n",
       "    .dataframe tbody tr th:only-of-type {\n",
       "        vertical-align: middle;\n",
       "    }\n",
       "\n",
       "    .dataframe tbody tr th {\n",
       "        vertical-align: top;\n",
       "    }\n",
       "\n",
       "    .dataframe thead th {\n",
       "        text-align: right;\n",
       "    }\n",
       "</style>\n",
       "<table border=\"1\" class=\"dataframe\">\n",
       "  <thead>\n",
       "    <tr style=\"text-align: right;\">\n",
       "      <th></th>\n",
       "      <th>level</th>\n",
       "      <th>ts</th>\n",
       "      <th>msg</th>\n",
       "      <th>sensorID</th>\n",
       "      <th>host</th>\n",
       "      <th>scanner</th>\n",
       "      <th>dest_port</th>\n",
       "      <th>handler</th>\n",
       "      <th>src_ip</th>\n",
       "      <th>src_port</th>\n",
       "      <th>...</th>\n",
       "      <th>password</th>\n",
       "      <th>message</th>\n",
       "      <th>direction</th>\n",
       "      <th>error</th>\n",
       "      <th>payload_hash</th>\n",
       "      <th>peer_id</th>\n",
       "      <th>inf_hash</th>\n",
       "      <th>sha256</th>\n",
       "      <th>source</th>\n",
       "      <th>sha</th>\n",
       "    </tr>\n",
       "  </thead>\n",
       "  <tbody>\n",
       "    <tr>\n",
       "      <th>0</th>\n",
       "      <td>info</td>\n",
       "      <td>1.673794e+09</td>\n",
       "      <td>IP from a known scanner</td>\n",
       "      <td>cd00083f-1221-429d-9d07-49cc5e1c2005</td>\n",
       "      <td>167.94.138.61</td>\n",
       "      <td>censys</td>\n",
       "      <td>53482</td>\n",
       "      <td>NaN</td>\n",
       "      <td>NaN</td>\n",
       "      <td>NaN</td>\n",
       "      <td>...</td>\n",
       "      <td>NaN</td>\n",
       "      <td>NaN</td>\n",
       "      <td>NaN</td>\n",
       "      <td>NaN</td>\n",
       "      <td>NaN</td>\n",
       "      <td>NaN</td>\n",
       "      <td>NaN</td>\n",
       "      <td>NaN</td>\n",
       "      <td>NaN</td>\n",
       "      <td>NaN</td>\n",
       "    </tr>\n",
       "    <tr>\n",
       "      <th>1</th>\n",
       "      <td>info</td>\n",
       "      <td>1.673794e+09</td>\n",
       "      <td>IP from a known scanner</td>\n",
       "      <td>cd00083f-1221-429d-9d07-49cc5e1c2005</td>\n",
       "      <td>167.94.138.61</td>\n",
       "      <td>censys</td>\n",
       "      <td>53482</td>\n",
       "      <td>NaN</td>\n",
       "      <td>NaN</td>\n",
       "      <td>NaN</td>\n",
       "      <td>...</td>\n",
       "      <td>NaN</td>\n",
       "      <td>NaN</td>\n",
       "      <td>NaN</td>\n",
       "      <td>NaN</td>\n",
       "      <td>NaN</td>\n",
       "      <td>NaN</td>\n",
       "      <td>NaN</td>\n",
       "      <td>NaN</td>\n",
       "      <td>NaN</td>\n",
       "      <td>NaN</td>\n",
       "    </tr>\n",
       "    <tr>\n",
       "      <th>2</th>\n",
       "      <td>info</td>\n",
       "      <td>1.673794e+09</td>\n",
       "      <td>IP from a known scanner</td>\n",
       "      <td>cd00083f-1221-429d-9d07-49cc5e1c2005</td>\n",
       "      <td>167.94.138.61</td>\n",
       "      <td>censys</td>\n",
       "      <td>53482</td>\n",
       "      <td>NaN</td>\n",
       "      <td>NaN</td>\n",
       "      <td>NaN</td>\n",
       "      <td>...</td>\n",
       "      <td>NaN</td>\n",
       "      <td>NaN</td>\n",
       "      <td>NaN</td>\n",
       "      <td>NaN</td>\n",
       "      <td>NaN</td>\n",
       "      <td>NaN</td>\n",
       "      <td>NaN</td>\n",
       "      <td>NaN</td>\n",
       "      <td>NaN</td>\n",
       "      <td>NaN</td>\n",
       "    </tr>\n",
       "    <tr>\n",
       "      <th>3</th>\n",
       "      <td>info</td>\n",
       "      <td>1.673794e+09</td>\n",
       "      <td>running Go routines: 35, open files: 8</td>\n",
       "      <td>cd00083f-1221-429d-9d07-49cc5e1c2005</td>\n",
       "      <td>NaN</td>\n",
       "      <td>NaN</td>\n",
       "      <td>NaN</td>\n",
       "      <td>NaN</td>\n",
       "      <td>NaN</td>\n",
       "      <td>NaN</td>\n",
       "      <td>...</td>\n",
       "      <td>NaN</td>\n",
       "      <td>NaN</td>\n",
       "      <td>NaN</td>\n",
       "      <td>NaN</td>\n",
       "      <td>NaN</td>\n",
       "      <td>NaN</td>\n",
       "      <td>NaN</td>\n",
       "      <td>NaN</td>\n",
       "      <td>NaN</td>\n",
       "      <td>NaN</td>\n",
       "    </tr>\n",
       "    <tr>\n",
       "      <th>4</th>\n",
       "      <td>info</td>\n",
       "      <td>1.673794e+09</td>\n",
       "      <td>IP from a known scanner</td>\n",
       "      <td>cd00083f-1221-429d-9d07-49cc5e1c2005</td>\n",
       "      <td>167.94.138.61</td>\n",
       "      <td>censys</td>\n",
       "      <td>53482</td>\n",
       "      <td>NaN</td>\n",
       "      <td>NaN</td>\n",
       "      <td>NaN</td>\n",
       "      <td>...</td>\n",
       "      <td>NaN</td>\n",
       "      <td>NaN</td>\n",
       "      <td>NaN</td>\n",
       "      <td>NaN</td>\n",
       "      <td>NaN</td>\n",
       "      <td>NaN</td>\n",
       "      <td>NaN</td>\n",
       "      <td>NaN</td>\n",
       "      <td>NaN</td>\n",
       "      <td>NaN</td>\n",
       "    </tr>\n",
       "  </tbody>\n",
       "</table>\n",
       "<p>5 rows × 24 columns</p>\n",
       "</div>"
      ],
      "text/plain": [
       "  level            ts                                     msg  \\\n",
       "0  info  1.673794e+09                 IP from a known scanner   \n",
       "1  info  1.673794e+09                 IP from a known scanner   \n",
       "2  info  1.673794e+09                 IP from a known scanner   \n",
       "3  info  1.673794e+09  running Go routines: 35, open files: 8   \n",
       "4  info  1.673794e+09                 IP from a known scanner   \n",
       "\n",
       "                               sensorID           host scanner dest_port  \\\n",
       "0  cd00083f-1221-429d-9d07-49cc5e1c2005  167.94.138.61  censys     53482   \n",
       "1  cd00083f-1221-429d-9d07-49cc5e1c2005  167.94.138.61  censys     53482   \n",
       "2  cd00083f-1221-429d-9d07-49cc5e1c2005  167.94.138.61  censys     53482   \n",
       "3  cd00083f-1221-429d-9d07-49cc5e1c2005            NaN     NaN       NaN   \n",
       "4  cd00083f-1221-429d-9d07-49cc5e1c2005  167.94.138.61  censys     53482   \n",
       "\n",
       "  handler src_ip src_port  ... password message direction error payload_hash  \\\n",
       "0     NaN    NaN      NaN  ...      NaN     NaN       NaN   NaN          NaN   \n",
       "1     NaN    NaN      NaN  ...      NaN     NaN       NaN   NaN          NaN   \n",
       "2     NaN    NaN      NaN  ...      NaN     NaN       NaN   NaN          NaN   \n",
       "3     NaN    NaN      NaN  ...      NaN     NaN       NaN   NaN          NaN   \n",
       "4     NaN    NaN      NaN  ...      NaN     NaN       NaN   NaN          NaN   \n",
       "\n",
       "  peer_id inf_hash sha256 source  sha  \n",
       "0     NaN      NaN    NaN    NaN  NaN  \n",
       "1     NaN      NaN    NaN    NaN  NaN  \n",
       "2     NaN      NaN    NaN    NaN  NaN  \n",
       "3     NaN      NaN    NaN    NaN  NaN  \n",
       "4     NaN      NaN    NaN    NaN  NaN  \n",
       "\n",
       "[5 rows x 24 columns]"
      ]
     },
     "execution_count": 9,
     "metadata": {},
     "output_type": "execute_result"
    }
   ],
   "source": [
    "# show first 5 lines of the dataframe table to visualize and sanity check the data\n",
    "# looks like the timestamp column was not correctly categorized but we dont care about that for now\n",
    "df.head()"
   ]
  },
  {
   "cell_type": "code",
   "execution_count": 10,
   "id": "888575c9-d8a5-4e22-a7fd-af368730c828",
   "metadata": {
    "tags": []
   },
   "outputs": [
    {
     "data": {
      "text/plain": [
       "23       2416231\n",
       "2323      177774\n",
       "3399       41689\n",
       "37215      34065\n",
       "23231       4162\n",
       "80          3808\n",
       "21          3255\n",
       "8080        2802\n",
       "8888        1478\n",
       "6379        1462\n",
       "Name: dest_port, dtype: int64"
      ]
     },
     "execution_count": 10,
     "metadata": {},
     "output_type": "execute_result"
    }
   ],
   "source": [
    "# make sure that the correct amount of rows are shown (dont use this in production...)\n",
    "pd.set_option(\"display.max_rows\", None)\n",
    "\n",
    "# show me the top 10 ports that were attacked and their request frequencies\n",
    "# WAOW... 2.41M of 3.4M are port 23 (telnet) and 2323 (alternative telnet to hide from attackers) \n",
    "df.dest_port.value_counts().head(10)"
   ]
  },
  {
   "cell_type": "markdown",
   "id": "2c2240c4-d4dc-4a46-bfe8-966c681aa0e6",
   "metadata": {},
   "source": [
    "### lets unpack the ports\n",
    "23 - TELNET\n",
    "\n",
    "2323 - probably similar to 2222/22 for ssh, so most likely also targeting telnet\n",
    "\n",
    "3399 - SAP enterprise management port, or CSMS which could either be cisco router management via CLI or content management systems (we need to dive deeper into this topic - https://www.speedguide.net/port.php?port=3399)\n",
    "\n",
    "37215 - Huawei HG532 routers that have a LFI vulnerability\n",
    "\n",
    "23231 - associated with mirai botnet scanners (https://isc.sans.edu/diary/UPDATED+x1:+Mirai+Scanning+for+Port+6789+Looking+for+New+Victims++Now+hitting+tcp23231/21833)\n",
    "\n",
    "80 - good old web application port\n",
    "\n",
    "21 - even better old FTP\n",
    "\n",
    "8080 - typical web app testing port / dev environment port\n",
    "\n",
    "8888 - typical web app testing port / dev environment port\n",
    "\n",
    "6379 - redis (in memory database / cache) - associated with https://cve.mitre.org/cgi-bin/cvename.cgi?name=CVE-2022-20821 ?"
   ]
  },
  {
   "cell_type": "code",
   "execution_count": 11,
   "id": "baf261ea-d94d-46cf-9ae0-291d7704057d",
   "metadata": {
    "tags": []
   },
   "outputs": [
    {
     "data": {
      "text/plain": [
       "src_ip    72.164882\n",
       "dtype: float64"
      ]
     },
     "execution_count": 11,
     "metadata": {},
     "output_type": "execute_result"
    }
   ],
   "source": [
    "# the top 100 attacker IPs make up 72% of the registered hits\n",
    "(df.src_ip.value_counts().to_frame().head(100).sum() / len(list_of_dicts)) * 100"
   ]
  },
  {
   "cell_type": "code",
   "execution_count": 12,
   "id": "69d4b915-a56d-47ae-b2d4-1ddc9570671c",
   "metadata": {
    "tags": []
   },
   "outputs": [
    {
     "data": {
      "text/plain": [
       "194.180.49.134     1444948\n",
       "78.135.85.216       469213\n",
       "171.22.30.173       183565\n",
       "85.209.134.96        73187\n",
       "170.250.201.168      47101\n",
       "54.39.186.162        41618\n",
       "195.133.40.73        14987\n",
       "107.189.6.194         8608\n",
       "14.33.109.148         8489\n",
       "185.225.73.79         7530\n",
       "Name: src_ip, dtype: int64"
      ]
     },
     "execution_count": 12,
     "metadata": {},
     "output_type": "execute_result"
    }
   ],
   "source": [
    "df.src_ip.value_counts().head(10)"
   ]
  },
  {
   "cell_type": "code",
   "execution_count": 18,
   "id": "c254e546-a72c-448c-bb3e-08b015b33a30",
   "metadata": {},
   "outputs": [],
   "source": [
    "# check which ports were attacked by our number 1 IP (194.180.49.134)\n",
    "number_one_attacker = df.loc[df['src_ip'] == '194.180.49.134']"
   ]
  },
  {
   "cell_type": "code",
   "execution_count": 19,
   "id": "32520f16-45d8-4c0b-94d9-c0064a32798a",
   "metadata": {
    "tags": []
   },
   "outputs": [
    {
     "data": {
      "text/plain": [
       "23      1359863\n",
       "2323      85085\n",
       "Name: dest_port, dtype: int64"
      ]
     },
     "execution_count": 19,
     "metadata": {},
     "output_type": "execute_result"
    }
   ],
   "source": [
    "# this attacker focussed on port 23 (telnet) and 2323 (alternative telnet) only\n",
    "number_one_attacker.dest_port.value_counts()"
   ]
  },
  {
   "cell_type": "code",
   "execution_count": 16,
   "id": "519a6c1f-b516-4841-ba9b-c7bc40e08fa5",
   "metadata": {
    "tags": []
   },
   "outputs": [
    {
     "data": {
      "text/plain": [
       "23      415921\n",
       "2323     53292\n",
       "Name: dest_port, dtype: int64"
      ]
     },
     "execution_count": 16,
     "metadata": {},
     "output_type": "execute_result"
    }
   ],
   "source": [
    "# this attacker ALSO focussed on port 23 (telnet) and 2323 (alternative telnet) only\n",
    "number_two_attacker = df.loc[df['src_ip'] == '78.135.85.216']\n",
    "number_two_attacker.dest_port.value_counts()"
   ]
  },
  {
   "cell_type": "code",
   "execution_count": 17,
   "id": "6dc5d69f-2401-448f-938b-1d14e3078797",
   "metadata": {
    "tags": []
   },
   "outputs": [
    {
     "data": {
      "text/plain": [
       "23    183565\n",
       "Name: dest_port, dtype: int64"
      ]
     },
     "execution_count": 17,
     "metadata": {},
     "output_type": "execute_result"
    }
   ],
   "source": [
    "# attacker #3 went for port 23 (telnet) only\n",
    "number_three_attacker = df.loc[df['src_ip'] == '171.22.30.173']\n",
    "number_three_attacker.dest_port.value_counts()"
   ]
  },
  {
   "cell_type": "code",
   "execution_count": 13,
   "id": "820854c0-30ac-4f4e-ae15-bb75935c5aab",
   "metadata": {
    "tags": []
   },
   "outputs": [
    {
     "name": "stdout",
     "output_type": "stream",
     "text": [
      "Country: EUROPEAN UNION (EU)\n",
      "City: (Unknown city)\n",
      "IP: 194.180.49.134\n",
      "\n",
      "Country: GERMANY (DE)\n",
      "City: Berlin\n",
      "IP: 78.135.85.216\n",
      "\n",
      "Country: EUROPEAN UNION (EU)\n",
      "City: (Unknown city)\n",
      "IP: 171.22.30.173\n",
      "\n",
      "Country: (Unknown Country?) (XX)\n",
      "City: (Unknown City?)\n",
      "IP: 85.209.134.96\n",
      "\n",
      "Country: UNITED STATES (US)\n",
      "City: (Unknown city)\n",
      "IP: 170.250.201.168\n",
      "\n",
      "Country: UNITED STATES (US)\n",
      "City: (Unknown city)\n",
      "IP: 54.39.186.162\n",
      "\n",
      "Country: RUSSIAN FEDERATION (RU)\n",
      "City: (Unknown city)\n",
      "IP: 195.133.40.73\n",
      "\n",
      "Country: (Unknown Country?) (XX)\n",
      "City: (Unknown City?)\n",
      "IP: 107.189.6.194\n",
      "\n",
      "Country: UNITED STATES (US)\n",
      "City: (Unknown city)\n",
      "IP: 14.33.109.148\n",
      "\n",
      "Country: (Unknown Country?) (XX)\n",
      "City: (Unknown City?)\n",
      "IP: 185.225.73.79\n",
      "\n"
     ]
    }
   ],
   "source": [
    "# identify attacker IP locations (https://www.hostip.info/use.php)\n",
    "for ip in df.src_ip.value_counts().head(10).index.to_list():\n",
    "    r = requests.get(f\"https://api.hostip.info/get_html.php?ip={ip}\")\n",
    "    print(r.text)"
   ]
  },
  {
   "cell_type": "markdown",
   "id": "59aa59ad-da2a-4e53-a485-5ae9e5058cdf",
   "metadata": {},
   "source": [
    "Since this was not too descriptive we can also check https://ipinfo.io/\n",
    "for details, e.g. which hosting/cloud provider is behind the IPs.\n",
    "\n",
    "```\n",
    "194.180.49.134 - amsterdam, netherlands - hosting: des.capital/serverion.com\n",
    "78.135.85.216 - istanbul, turkey - hosting: hostingdunyam.com.tr\n",
    "171.22.30.173 - brielle, netherlands - hosting: des.capital/serverion.com\n",
    "85.209.134.96 - brielle, netherlands - hosting: des.capital/serverion.com\n",
    "170.250.201.168 - fort lauderdale, florida USA - hosting: hotwirecommunications.com\n",
    "54.39.186.162 - montreal, canada - hosting: ovh.net\n",
    "195.133.40.73 - brielle, netherlands - hosting: des.capital/serverion.com\n",
    "107.189.6.194 - bissen, luxemburg - hosting: frantech.ca\n",
    "14.33.109.148 - suwon, south korea - hosting: kt.com\n",
    "185.225.73.79 - amsterdam, netherlands - hosting: des.capital/serverion.com\n",
    "```\n",
    "\n",
    "We can see that a lot of IPs are hosted by des.capital in the netherlands, so maybe we should send them a nice email that their service is abused by bots. I shall try to do that and see what happens - will update you on twitter/youtube."
   ]
  },
  {
   "cell_type": "markdown",
   "id": "4149434a-8f4d-4775-a4b6-9defe80b0379",
   "metadata": {
    "tags": []
   },
   "source": [
    "# #1 attacker IP reverse lookup\n",
    "![image](top_attacker_ip.png)"
   ]
  },
  {
   "cell_type": "markdown",
   "id": "c974cd19-375e-4ddf-9485-3bb347b611d2",
   "metadata": {},
   "source": [
    "`poweredbycrazy.ru` huh?\n",
    "I am not sure which provider this is from but location seems to be in the Netherlands\n",
    "\n",
    "lets check how long the page has been registered"
   ]
  },
  {
   "cell_type": "markdown",
   "id": "a7a55928-daf0-4990-a2af-b78d1657cc3c",
   "metadata": {},
   "source": [
    "virustotal: https://www.virustotal.com/gui/domain/poweredbycrazy.ru/relations\n",
    "\n",
    "crt.sh: https://crt.sh/?q=poweredbycrazy.ru"
   ]
  },
  {
   "cell_type": "markdown",
   "id": "8b63b72c-8040-42e3-8582-8c92c9cb19db",
   "metadata": {
    "tags": []
   },
   "source": [
    "That shows that the domain is less than 12 months old but more than 6, usually for spammers/bots these have a much shorter half-life.\n",
    "\n",
    "Next is some google-dorking to check if someone knows the domain.\n",
    "\n",
    "https://www.google.com/search?q=%22poweredbycrazy.ru%22\n",
    "\n",
    "One source that added them to their blocklist as the most frequent entry (I think) because they are `Known Spammers or Unauth Logins`\n",
    "https://www.krowverse.services/blocked_domains.txt\n",
    "\n",
    "There are also a lot of IPs associated with the domain:\n",
    "```\n",
    "212.192.241.42\n",
    "109.206.241.176 \n",
    "208.67.106.199\n",
    "81.161.229.112\n",
    "194.31.98.130\n",
    "185.246.221.157\n",
    "208.67.104.38\n",
    "208.67.105.236\n",
    "2.56.57.178\n",
    "208.67.105.73\n",
    "141.98.6.32\n",
    "185.216.71.0\n",
    "85.31.46.89\n",
    "212.192.241.132\n",
    "80.76.51.29\n",
    "195.178.120.89\n",
    "107.182.129.118\n",
    "```\n",
    "\n",
    "If we cluster those we can see a couple connections\n",
    "```\n",
    "2.56.57.178\n",
    "\n",
    "80.76.51.29 - serverion.com/des.capital\n",
    "\n",
    "\n",
    "81.161.229.112\n",
    "\n",
    "85.31.46.89\n",
    "\n",
    "\n",
    "107.182.129.118 - delis.one/des.capital\n",
    "\n",
    "109.206.241.176\n",
    "\n",
    "141.98.6.32\n",
    "\n",
    "\n",
    "185.216.71.0\n",
    "185.246.221.157 - serverion.com/des.capital\n",
    "\n",
    "\n",
    "194.31.98.130\n",
    "195.178.120.89 - serverion.com/des.capital\n",
    "\n",
    "\n",
    "208.67.104.38 - serverion.com/des.capital\n",
    "208.67.105.73\n",
    "\n",
    "208.67.106.199\n",
    "208.67.105.236\n",
    "\n",
    "\n",
    "212.192.241.42\n",
    "212.192.241.132 - voldeta.com/des.capital\n",
    "```\n",
    "\n",
    "In the google results we find two nameserver that might be interesting. We run reverse IP lookups (`dig -x <IP>`) and checking the responses:\n",
    "ns1.crazy.bz (no response, maybe old?)\n",
    "ns1.opendns.pw (IP: 107.182.129.157) - there is also ns2.opendns.pw (PW: 208.67.106.208)\n",
    "\n",
    "(ps. currently the page is \"protected\" by cloudflare, I am 99% sure though that one could report it and it would be taken down - anyone wanna try?)\n",
    "\n",
    "\n",
    "### What do you see? \n",
    "It appears that the opendns.pw IPs are closely associated with poweredbycrazy.ru (107.182.129.xxx / 208.67.106.xxx - so maybe some kind of malicious nameservers on their side?\n",
    "\n",
    "PLUS - all the ones we checked come back to the same company - des.capital - WHO is that?"
   ]
  },
  {
   "cell_type": "code",
   "execution_count": null,
   "id": "87210e6d-2da4-49b9-98f9-7865929212c7",
   "metadata": {},
   "outputs": [],
   "source": []
  }
 ],
 "metadata": {
  "kernelspec": {
   "display_name": "Python 3 (ipykernel)",
   "language": "python",
   "name": "python3"
  },
  "language_info": {
   "codemirror_mode": {
    "name": "ipython",
    "version": 3
   },
   "file_extension": ".py",
   "mimetype": "text/x-python",
   "name": "python",
   "nbconvert_exporter": "python",
   "pygments_lexer": "ipython3",
   "version": "3.8.10"
  }
 },
 "nbformat": 4,
 "nbformat_minor": 5
}
